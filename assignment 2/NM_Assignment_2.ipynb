{
  "nbformat": 4,
  "nbformat_minor": 0,
  "metadata": {
    "colab": {
      "provenance": []
    },
    "kernelspec": {
      "name": "python3",
      "display_name": "Python 3"
    },
    "language_info": {
      "name": "python"
    }
  },
  "cells": [
    {
      "cell_type": "code",
      "execution_count": 3,
      "metadata": {
        "id": "k0ImGawBnEKE"
      },
      "outputs": [],
      "source": [
        "# import libraries\n",
        "\n",
        "import numpy as np \n",
        "import pandas as pd "
      ]
    },
    {
      "cell_type": "markdown",
      "source": [
        "# Preprocess the Dataset"
      ],
      "metadata": {
        "id": "5MOokVmZ1Opf"
      }
    },
    {
      "cell_type": "code",
      "source": [
        "# load the data set\n",
        "df = pd.read_csv('/content/drive/MyDrive/naan mudhalvan course AI/House Price India.csv')\n",
        "df.head()"
      ],
      "metadata": {
        "colab": {
          "base_uri": "https://localhost:8080/",
          "height": 345
        },
        "id": "UGp811E5v-tk",
        "outputId": "6a7bd630-b055-4f5f-a561-4a41146a9ad2"
      },
      "execution_count": 2,
      "outputs": [
        {
          "output_type": "error",
          "ename": "FileNotFoundError",
          "evalue": "ignored",
          "traceback": [
            "\u001b[0;31m---------------------------------------------------------------------------\u001b[0m",
            "\u001b[0;31mFileNotFoundError\u001b[0m                         Traceback (most recent call last)",
            "\u001b[0;32m<ipython-input-2-8451dc24d040>\u001b[0m in \u001b[0;36m<cell line: 2>\u001b[0;34m()\u001b[0m\n\u001b[1;32m      1\u001b[0m \u001b[0;31m# load the data set\u001b[0m\u001b[0;34m\u001b[0m\u001b[0;34m\u001b[0m\u001b[0m\n\u001b[0;32m----> 2\u001b[0;31m \u001b[0mdf\u001b[0m \u001b[0;34m=\u001b[0m \u001b[0mpd\u001b[0m\u001b[0;34m.\u001b[0m\u001b[0mread_csv\u001b[0m\u001b[0;34m(\u001b[0m\u001b[0;34m'/content/drive/MyDrive/naan mudhalvan course AI/House Price India.csv'\u001b[0m\u001b[0;34m)\u001b[0m\u001b[0;34m\u001b[0m\u001b[0;34m\u001b[0m\u001b[0m\n\u001b[0m\u001b[1;32m      3\u001b[0m \u001b[0mdf\u001b[0m\u001b[0;34m.\u001b[0m\u001b[0mhead\u001b[0m\u001b[0;34m(\u001b[0m\u001b[0;34m)\u001b[0m\u001b[0;34m\u001b[0m\u001b[0;34m\u001b[0m\u001b[0m\n",
            "\u001b[0;32m/usr/local/lib/python3.10/dist-packages/pandas/util/_decorators.py\u001b[0m in \u001b[0;36mwrapper\u001b[0;34m(*args, **kwargs)\u001b[0m\n\u001b[1;32m    209\u001b[0m                 \u001b[0;32melse\u001b[0m\u001b[0;34m:\u001b[0m\u001b[0;34m\u001b[0m\u001b[0;34m\u001b[0m\u001b[0m\n\u001b[1;32m    210\u001b[0m                     \u001b[0mkwargs\u001b[0m\u001b[0;34m[\u001b[0m\u001b[0mnew_arg_name\u001b[0m\u001b[0;34m]\u001b[0m \u001b[0;34m=\u001b[0m \u001b[0mnew_arg_value\u001b[0m\u001b[0;34m\u001b[0m\u001b[0;34m\u001b[0m\u001b[0m\n\u001b[0;32m--> 211\u001b[0;31m             \u001b[0;32mreturn\u001b[0m \u001b[0mfunc\u001b[0m\u001b[0;34m(\u001b[0m\u001b[0;34m*\u001b[0m\u001b[0margs\u001b[0m\u001b[0;34m,\u001b[0m \u001b[0;34m**\u001b[0m\u001b[0mkwargs\u001b[0m\u001b[0;34m)\u001b[0m\u001b[0;34m\u001b[0m\u001b[0;34m\u001b[0m\u001b[0m\n\u001b[0m\u001b[1;32m    212\u001b[0m \u001b[0;34m\u001b[0m\u001b[0m\n\u001b[1;32m    213\u001b[0m         \u001b[0;32mreturn\u001b[0m \u001b[0mcast\u001b[0m\u001b[0;34m(\u001b[0m\u001b[0mF\u001b[0m\u001b[0;34m,\u001b[0m \u001b[0mwrapper\u001b[0m\u001b[0;34m)\u001b[0m\u001b[0;34m\u001b[0m\u001b[0;34m\u001b[0m\u001b[0m\n",
            "\u001b[0;32m/usr/local/lib/python3.10/dist-packages/pandas/util/_decorators.py\u001b[0m in \u001b[0;36mwrapper\u001b[0;34m(*args, **kwargs)\u001b[0m\n\u001b[1;32m    329\u001b[0m                     \u001b[0mstacklevel\u001b[0m\u001b[0;34m=\u001b[0m\u001b[0mfind_stack_level\u001b[0m\u001b[0;34m(\u001b[0m\u001b[0;34m)\u001b[0m\u001b[0;34m,\u001b[0m\u001b[0;34m\u001b[0m\u001b[0;34m\u001b[0m\u001b[0m\n\u001b[1;32m    330\u001b[0m                 )\n\u001b[0;32m--> 331\u001b[0;31m             \u001b[0;32mreturn\u001b[0m \u001b[0mfunc\u001b[0m\u001b[0;34m(\u001b[0m\u001b[0;34m*\u001b[0m\u001b[0margs\u001b[0m\u001b[0;34m,\u001b[0m \u001b[0;34m**\u001b[0m\u001b[0mkwargs\u001b[0m\u001b[0;34m)\u001b[0m\u001b[0;34m\u001b[0m\u001b[0;34m\u001b[0m\u001b[0m\n\u001b[0m\u001b[1;32m    332\u001b[0m \u001b[0;34m\u001b[0m\u001b[0m\n\u001b[1;32m    333\u001b[0m         \u001b[0;31m# error: \"Callable[[VarArg(Any), KwArg(Any)], Any]\" has no\u001b[0m\u001b[0;34m\u001b[0m\u001b[0;34m\u001b[0m\u001b[0m\n",
            "\u001b[0;32m/usr/local/lib/python3.10/dist-packages/pandas/io/parsers/readers.py\u001b[0m in \u001b[0;36mread_csv\u001b[0;34m(filepath_or_buffer, sep, delimiter, header, names, index_col, usecols, squeeze, prefix, mangle_dupe_cols, dtype, engine, converters, true_values, false_values, skipinitialspace, skiprows, skipfooter, nrows, na_values, keep_default_na, na_filter, verbose, skip_blank_lines, parse_dates, infer_datetime_format, keep_date_col, date_parser, dayfirst, cache_dates, iterator, chunksize, compression, thousands, decimal, lineterminator, quotechar, quoting, doublequote, escapechar, comment, encoding, encoding_errors, dialect, error_bad_lines, warn_bad_lines, on_bad_lines, delim_whitespace, low_memory, memory_map, float_precision, storage_options)\u001b[0m\n\u001b[1;32m    948\u001b[0m     \u001b[0mkwds\u001b[0m\u001b[0;34m.\u001b[0m\u001b[0mupdate\u001b[0m\u001b[0;34m(\u001b[0m\u001b[0mkwds_defaults\u001b[0m\u001b[0;34m)\u001b[0m\u001b[0;34m\u001b[0m\u001b[0;34m\u001b[0m\u001b[0m\n\u001b[1;32m    949\u001b[0m \u001b[0;34m\u001b[0m\u001b[0m\n\u001b[0;32m--> 950\u001b[0;31m     \u001b[0;32mreturn\u001b[0m \u001b[0m_read\u001b[0m\u001b[0;34m(\u001b[0m\u001b[0mfilepath_or_buffer\u001b[0m\u001b[0;34m,\u001b[0m \u001b[0mkwds\u001b[0m\u001b[0;34m)\u001b[0m\u001b[0;34m\u001b[0m\u001b[0;34m\u001b[0m\u001b[0m\n\u001b[0m\u001b[1;32m    951\u001b[0m \u001b[0;34m\u001b[0m\u001b[0m\n\u001b[1;32m    952\u001b[0m \u001b[0;34m\u001b[0m\u001b[0m\n",
            "\u001b[0;32m/usr/local/lib/python3.10/dist-packages/pandas/io/parsers/readers.py\u001b[0m in \u001b[0;36m_read\u001b[0;34m(filepath_or_buffer, kwds)\u001b[0m\n\u001b[1;32m    603\u001b[0m \u001b[0;34m\u001b[0m\u001b[0m\n\u001b[1;32m    604\u001b[0m     \u001b[0;31m# Create the parser.\u001b[0m\u001b[0;34m\u001b[0m\u001b[0;34m\u001b[0m\u001b[0m\n\u001b[0;32m--> 605\u001b[0;31m     \u001b[0mparser\u001b[0m \u001b[0;34m=\u001b[0m \u001b[0mTextFileReader\u001b[0m\u001b[0;34m(\u001b[0m\u001b[0mfilepath_or_buffer\u001b[0m\u001b[0;34m,\u001b[0m \u001b[0;34m**\u001b[0m\u001b[0mkwds\u001b[0m\u001b[0;34m)\u001b[0m\u001b[0;34m\u001b[0m\u001b[0;34m\u001b[0m\u001b[0m\n\u001b[0m\u001b[1;32m    606\u001b[0m \u001b[0;34m\u001b[0m\u001b[0m\n\u001b[1;32m    607\u001b[0m     \u001b[0;32mif\u001b[0m \u001b[0mchunksize\u001b[0m \u001b[0;32mor\u001b[0m \u001b[0miterator\u001b[0m\u001b[0;34m:\u001b[0m\u001b[0;34m\u001b[0m\u001b[0;34m\u001b[0m\u001b[0m\n",
            "\u001b[0;32m/usr/local/lib/python3.10/dist-packages/pandas/io/parsers/readers.py\u001b[0m in \u001b[0;36m__init__\u001b[0;34m(self, f, engine, **kwds)\u001b[0m\n\u001b[1;32m   1440\u001b[0m \u001b[0;34m\u001b[0m\u001b[0m\n\u001b[1;32m   1441\u001b[0m         \u001b[0mself\u001b[0m\u001b[0;34m.\u001b[0m\u001b[0mhandles\u001b[0m\u001b[0;34m:\u001b[0m \u001b[0mIOHandles\u001b[0m \u001b[0;34m|\u001b[0m \u001b[0;32mNone\u001b[0m \u001b[0;34m=\u001b[0m \u001b[0;32mNone\u001b[0m\u001b[0;34m\u001b[0m\u001b[0;34m\u001b[0m\u001b[0m\n\u001b[0;32m-> 1442\u001b[0;31m         \u001b[0mself\u001b[0m\u001b[0;34m.\u001b[0m\u001b[0m_engine\u001b[0m \u001b[0;34m=\u001b[0m \u001b[0mself\u001b[0m\u001b[0;34m.\u001b[0m\u001b[0m_make_engine\u001b[0m\u001b[0;34m(\u001b[0m\u001b[0mf\u001b[0m\u001b[0;34m,\u001b[0m \u001b[0mself\u001b[0m\u001b[0;34m.\u001b[0m\u001b[0mengine\u001b[0m\u001b[0;34m)\u001b[0m\u001b[0;34m\u001b[0m\u001b[0;34m\u001b[0m\u001b[0m\n\u001b[0m\u001b[1;32m   1443\u001b[0m \u001b[0;34m\u001b[0m\u001b[0m\n\u001b[1;32m   1444\u001b[0m     \u001b[0;32mdef\u001b[0m \u001b[0mclose\u001b[0m\u001b[0;34m(\u001b[0m\u001b[0mself\u001b[0m\u001b[0;34m)\u001b[0m \u001b[0;34m->\u001b[0m \u001b[0;32mNone\u001b[0m\u001b[0;34m:\u001b[0m\u001b[0;34m\u001b[0m\u001b[0;34m\u001b[0m\u001b[0m\n",
            "\u001b[0;32m/usr/local/lib/python3.10/dist-packages/pandas/io/parsers/readers.py\u001b[0m in \u001b[0;36m_make_engine\u001b[0;34m(self, f, engine)\u001b[0m\n\u001b[1;32m   1733\u001b[0m                 \u001b[0;32mif\u001b[0m \u001b[0;34m\"b\"\u001b[0m \u001b[0;32mnot\u001b[0m \u001b[0;32min\u001b[0m \u001b[0mmode\u001b[0m\u001b[0;34m:\u001b[0m\u001b[0;34m\u001b[0m\u001b[0;34m\u001b[0m\u001b[0m\n\u001b[1;32m   1734\u001b[0m                     \u001b[0mmode\u001b[0m \u001b[0;34m+=\u001b[0m \u001b[0;34m\"b\"\u001b[0m\u001b[0;34m\u001b[0m\u001b[0;34m\u001b[0m\u001b[0m\n\u001b[0;32m-> 1735\u001b[0;31m             self.handles = get_handle(\n\u001b[0m\u001b[1;32m   1736\u001b[0m                 \u001b[0mf\u001b[0m\u001b[0;34m,\u001b[0m\u001b[0;34m\u001b[0m\u001b[0;34m\u001b[0m\u001b[0m\n\u001b[1;32m   1737\u001b[0m                 \u001b[0mmode\u001b[0m\u001b[0;34m,\u001b[0m\u001b[0;34m\u001b[0m\u001b[0;34m\u001b[0m\u001b[0m\n",
            "\u001b[0;32m/usr/local/lib/python3.10/dist-packages/pandas/io/common.py\u001b[0m in \u001b[0;36mget_handle\u001b[0;34m(path_or_buf, mode, encoding, compression, memory_map, is_text, errors, storage_options)\u001b[0m\n\u001b[1;32m    854\u001b[0m         \u001b[0;32mif\u001b[0m \u001b[0mioargs\u001b[0m\u001b[0;34m.\u001b[0m\u001b[0mencoding\u001b[0m \u001b[0;32mand\u001b[0m \u001b[0;34m\"b\"\u001b[0m \u001b[0;32mnot\u001b[0m \u001b[0;32min\u001b[0m \u001b[0mioargs\u001b[0m\u001b[0;34m.\u001b[0m\u001b[0mmode\u001b[0m\u001b[0;34m:\u001b[0m\u001b[0;34m\u001b[0m\u001b[0;34m\u001b[0m\u001b[0m\n\u001b[1;32m    855\u001b[0m             \u001b[0;31m# Encoding\u001b[0m\u001b[0;34m\u001b[0m\u001b[0;34m\u001b[0m\u001b[0m\n\u001b[0;32m--> 856\u001b[0;31m             handle = open(\n\u001b[0m\u001b[1;32m    857\u001b[0m                 \u001b[0mhandle\u001b[0m\u001b[0;34m,\u001b[0m\u001b[0;34m\u001b[0m\u001b[0;34m\u001b[0m\u001b[0m\n\u001b[1;32m    858\u001b[0m                 \u001b[0mioargs\u001b[0m\u001b[0;34m.\u001b[0m\u001b[0mmode\u001b[0m\u001b[0;34m,\u001b[0m\u001b[0;34m\u001b[0m\u001b[0;34m\u001b[0m\u001b[0m\n",
            "\u001b[0;31mFileNotFoundError\u001b[0m: [Errno 2] No such file or directory: '/content/drive/MyDrive/naan mudhalvan course AI/House Price India.csv'"
          ]
        }
      ]
    },
    {
      "cell_type": "code",
      "source": [
        "df.shape\n",
        "     "
      ],
      "metadata": {
        "colab": {
          "base_uri": "https://localhost:8080/"
        },
        "id": "FksmYFRMwSTB",
        "outputId": "dc9fea4e-79f2-4eb1-9bfd-6aa234d27e2e"
      },
      "execution_count": null,
      "outputs": [
        {
          "output_type": "execute_result",
          "data": {
            "text/plain": [
              "(14620, 23)"
            ]
          },
          "metadata": {},
          "execution_count": 3
        }
      ]
    },
    {
      "cell_type": "code",
      "source": [
        "df.isnull().sum()"
      ],
      "metadata": {
        "colab": {
          "base_uri": "https://localhost:8080/"
        },
        "id": "2kQVZ9VGwazv",
        "outputId": "8927dab2-4cce-47fd-f0a4-6162e868409e"
      },
      "execution_count": null,
      "outputs": [
        {
          "output_type": "execute_result",
          "data": {
            "text/plain": [
              "id                                       0\n",
              "Date                                     0\n",
              "number of bedrooms                       0\n",
              "number of bathrooms                      0\n",
              "living area                              0\n",
              "lot area                                 0\n",
              "number of floors                         0\n",
              "waterfront present                       0\n",
              "number of views                          0\n",
              "condition of the house                   0\n",
              "grade of the house                       0\n",
              "Area of the house(excluding basement)    0\n",
              "Area of the basement                     0\n",
              "Built Year                               0\n",
              "Renovation Year                          0\n",
              "Postal Code                              0\n",
              "Lattitude                                0\n",
              "Longitude                                0\n",
              "living_area_renov                        0\n",
              "lot_area_renov                           0\n",
              "Number of schools nearby                 0\n",
              "Distance from the airport                0\n",
              "Price                                    0\n",
              "dtype: int64"
            ]
          },
          "metadata": {},
          "execution_count": 4
        }
      ]
    },
    {
      "cell_type": "code",
      "source": [
        "# remove unwanted column\n",
        "\n",
        "df.drop(['Date'],axis =1,inplace =True)\n",
        "     "
      ],
      "metadata": {
        "id": "Zg00logxwlnn"
      },
      "execution_count": null,
      "outputs": []
    },
    {
      "cell_type": "code",
      "source": [
        "df.head()"
      ],
      "metadata": {
        "colab": {
          "base_uri": "https://localhost:8080/",
          "height": 351
        },
        "id": "rMFj66vHzPYk",
        "outputId": "8f04b896-9217-4877-bf15-e0607fe40c65"
      },
      "execution_count": null,
      "outputs": [
        {
          "output_type": "execute_result",
          "data": {
            "text/plain": [
              "           id  number of bedrooms  number of bathrooms  living area  lot area  \\\n",
              "0  6762810145                   5                 2.50         3650      9050   \n",
              "1  6762810635                   4                 2.50         2920      4000   \n",
              "2  6762810998                   5                 2.75         2910      9480   \n",
              "3  6762812605                   4                 2.50         3310     42998   \n",
              "4  6762812919                   3                 2.00         2710      4500   \n",
              "\n",
              "   number of floors  waterfront present  number of views  \\\n",
              "0               2.0                   0                4   \n",
              "1               1.5                   0                0   \n",
              "2               1.5                   0                0   \n",
              "3               2.0                   0                0   \n",
              "4               1.5                   0                0   \n",
              "\n",
              "   condition of the house  grade of the house  ...  Built Year  \\\n",
              "0                       5                  10  ...        1921   \n",
              "1                       5                   8  ...        1909   \n",
              "2                       3                   8  ...        1939   \n",
              "3                       3                   9  ...        2001   \n",
              "4                       4                   8  ...        1929   \n",
              "\n",
              "   Renovation Year  Postal Code  Lattitude  Longitude  living_area_renov  \\\n",
              "0                0       122003    52.8645   -114.557               2880   \n",
              "1                0       122004    52.8878   -114.470               2470   \n",
              "2                0       122004    52.8852   -114.468               2940   \n",
              "3                0       122005    52.9532   -114.321               3350   \n",
              "4                0       122006    52.9047   -114.485               2060   \n",
              "\n",
              "   lot_area_renov  Number of schools nearby  Distance from the airport  \\\n",
              "0            5400                         2                         58   \n",
              "1            4000                         2                         51   \n",
              "2            6600                         1                         53   \n",
              "3           42847                         3                         76   \n",
              "4            4500                         1                         51   \n",
              "\n",
              "     Price  \n",
              "0  2380000  \n",
              "1  1400000  \n",
              "2  1200000  \n",
              "3   838000  \n",
              "4   805000  \n",
              "\n",
              "[5 rows x 22 columns]"
            ],
            "text/html": [
              "\n",
              "  <div id=\"df-e38de18b-0de0-4ffc-ae00-208bf050f683\">\n",
              "    <div class=\"colab-df-container\">\n",
              "      <div>\n",
              "<style scoped>\n",
              "    .dataframe tbody tr th:only-of-type {\n",
              "        vertical-align: middle;\n",
              "    }\n",
              "\n",
              "    .dataframe tbody tr th {\n",
              "        vertical-align: top;\n",
              "    }\n",
              "\n",
              "    .dataframe thead th {\n",
              "        text-align: right;\n",
              "    }\n",
              "</style>\n",
              "<table border=\"1\" class=\"dataframe\">\n",
              "  <thead>\n",
              "    <tr style=\"text-align: right;\">\n",
              "      <th></th>\n",
              "      <th>id</th>\n",
              "      <th>number of bedrooms</th>\n",
              "      <th>number of bathrooms</th>\n",
              "      <th>living area</th>\n",
              "      <th>lot area</th>\n",
              "      <th>number of floors</th>\n",
              "      <th>waterfront present</th>\n",
              "      <th>number of views</th>\n",
              "      <th>condition of the house</th>\n",
              "      <th>grade of the house</th>\n",
              "      <th>...</th>\n",
              "      <th>Built Year</th>\n",
              "      <th>Renovation Year</th>\n",
              "      <th>Postal Code</th>\n",
              "      <th>Lattitude</th>\n",
              "      <th>Longitude</th>\n",
              "      <th>living_area_renov</th>\n",
              "      <th>lot_area_renov</th>\n",
              "      <th>Number of schools nearby</th>\n",
              "      <th>Distance from the airport</th>\n",
              "      <th>Price</th>\n",
              "    </tr>\n",
              "  </thead>\n",
              "  <tbody>\n",
              "    <tr>\n",
              "      <th>0</th>\n",
              "      <td>6762810145</td>\n",
              "      <td>5</td>\n",
              "      <td>2.50</td>\n",
              "      <td>3650</td>\n",
              "      <td>9050</td>\n",
              "      <td>2.0</td>\n",
              "      <td>0</td>\n",
              "      <td>4</td>\n",
              "      <td>5</td>\n",
              "      <td>10</td>\n",
              "      <td>...</td>\n",
              "      <td>1921</td>\n",
              "      <td>0</td>\n",
              "      <td>122003</td>\n",
              "      <td>52.8645</td>\n",
              "      <td>-114.557</td>\n",
              "      <td>2880</td>\n",
              "      <td>5400</td>\n",
              "      <td>2</td>\n",
              "      <td>58</td>\n",
              "      <td>2380000</td>\n",
              "    </tr>\n",
              "    <tr>\n",
              "      <th>1</th>\n",
              "      <td>6762810635</td>\n",
              "      <td>4</td>\n",
              "      <td>2.50</td>\n",
              "      <td>2920</td>\n",
              "      <td>4000</td>\n",
              "      <td>1.5</td>\n",
              "      <td>0</td>\n",
              "      <td>0</td>\n",
              "      <td>5</td>\n",
              "      <td>8</td>\n",
              "      <td>...</td>\n",
              "      <td>1909</td>\n",
              "      <td>0</td>\n",
              "      <td>122004</td>\n",
              "      <td>52.8878</td>\n",
              "      <td>-114.470</td>\n",
              "      <td>2470</td>\n",
              "      <td>4000</td>\n",
              "      <td>2</td>\n",
              "      <td>51</td>\n",
              "      <td>1400000</td>\n",
              "    </tr>\n",
              "    <tr>\n",
              "      <th>2</th>\n",
              "      <td>6762810998</td>\n",
              "      <td>5</td>\n",
              "      <td>2.75</td>\n",
              "      <td>2910</td>\n",
              "      <td>9480</td>\n",
              "      <td>1.5</td>\n",
              "      <td>0</td>\n",
              "      <td>0</td>\n",
              "      <td>3</td>\n",
              "      <td>8</td>\n",
              "      <td>...</td>\n",
              "      <td>1939</td>\n",
              "      <td>0</td>\n",
              "      <td>122004</td>\n",
              "      <td>52.8852</td>\n",
              "      <td>-114.468</td>\n",
              "      <td>2940</td>\n",
              "      <td>6600</td>\n",
              "      <td>1</td>\n",
              "      <td>53</td>\n",
              "      <td>1200000</td>\n",
              "    </tr>\n",
              "    <tr>\n",
              "      <th>3</th>\n",
              "      <td>6762812605</td>\n",
              "      <td>4</td>\n",
              "      <td>2.50</td>\n",
              "      <td>3310</td>\n",
              "      <td>42998</td>\n",
              "      <td>2.0</td>\n",
              "      <td>0</td>\n",
              "      <td>0</td>\n",
              "      <td>3</td>\n",
              "      <td>9</td>\n",
              "      <td>...</td>\n",
              "      <td>2001</td>\n",
              "      <td>0</td>\n",
              "      <td>122005</td>\n",
              "      <td>52.9532</td>\n",
              "      <td>-114.321</td>\n",
              "      <td>3350</td>\n",
              "      <td>42847</td>\n",
              "      <td>3</td>\n",
              "      <td>76</td>\n",
              "      <td>838000</td>\n",
              "    </tr>\n",
              "    <tr>\n",
              "      <th>4</th>\n",
              "      <td>6762812919</td>\n",
              "      <td>3</td>\n",
              "      <td>2.00</td>\n",
              "      <td>2710</td>\n",
              "      <td>4500</td>\n",
              "      <td>1.5</td>\n",
              "      <td>0</td>\n",
              "      <td>0</td>\n",
              "      <td>4</td>\n",
              "      <td>8</td>\n",
              "      <td>...</td>\n",
              "      <td>1929</td>\n",
              "      <td>0</td>\n",
              "      <td>122006</td>\n",
              "      <td>52.9047</td>\n",
              "      <td>-114.485</td>\n",
              "      <td>2060</td>\n",
              "      <td>4500</td>\n",
              "      <td>1</td>\n",
              "      <td>51</td>\n",
              "      <td>805000</td>\n",
              "    </tr>\n",
              "  </tbody>\n",
              "</table>\n",
              "<p>5 rows × 22 columns</p>\n",
              "</div>\n",
              "      <button class=\"colab-df-convert\" onclick=\"convertToInteractive('df-e38de18b-0de0-4ffc-ae00-208bf050f683')\"\n",
              "              title=\"Convert this dataframe to an interactive table.\"\n",
              "              style=\"display:none;\">\n",
              "        \n",
              "  <svg xmlns=\"http://www.w3.org/2000/svg\" height=\"24px\"viewBox=\"0 0 24 24\"\n",
              "       width=\"24px\">\n",
              "    <path d=\"M0 0h24v24H0V0z\" fill=\"none\"/>\n",
              "    <path d=\"M18.56 5.44l.94 2.06.94-2.06 2.06-.94-2.06-.94-.94-2.06-.94 2.06-2.06.94zm-11 1L8.5 8.5l.94-2.06 2.06-.94-2.06-.94L8.5 2.5l-.94 2.06-2.06.94zm10 10l.94 2.06.94-2.06 2.06-.94-2.06-.94-.94-2.06-.94 2.06-2.06.94z\"/><path d=\"M17.41 7.96l-1.37-1.37c-.4-.4-.92-.59-1.43-.59-.52 0-1.04.2-1.43.59L10.3 9.45l-7.72 7.72c-.78.78-.78 2.05 0 2.83L4 21.41c.39.39.9.59 1.41.59.51 0 1.02-.2 1.41-.59l7.78-7.78 2.81-2.81c.8-.78.8-2.07 0-2.86zM5.41 20L4 18.59l7.72-7.72 1.47 1.35L5.41 20z\"/>\n",
              "  </svg>\n",
              "      </button>\n",
              "      \n",
              "  <style>\n",
              "    .colab-df-container {\n",
              "      display:flex;\n",
              "      flex-wrap:wrap;\n",
              "      gap: 12px;\n",
              "    }\n",
              "\n",
              "    .colab-df-convert {\n",
              "      background-color: #E8F0FE;\n",
              "      border: none;\n",
              "      border-radius: 50%;\n",
              "      cursor: pointer;\n",
              "      display: none;\n",
              "      fill: #1967D2;\n",
              "      height: 32px;\n",
              "      padding: 0 0 0 0;\n",
              "      width: 32px;\n",
              "    }\n",
              "\n",
              "    .colab-df-convert:hover {\n",
              "      background-color: #E2EBFA;\n",
              "      box-shadow: 0px 1px 2px rgba(60, 64, 67, 0.3), 0px 1px 3px 1px rgba(60, 64, 67, 0.15);\n",
              "      fill: #174EA6;\n",
              "    }\n",
              "\n",
              "    [theme=dark] .colab-df-convert {\n",
              "      background-color: #3B4455;\n",
              "      fill: #D2E3FC;\n",
              "    }\n",
              "\n",
              "    [theme=dark] .colab-df-convert:hover {\n",
              "      background-color: #434B5C;\n",
              "      box-shadow: 0px 1px 3px 1px rgba(0, 0, 0, 0.15);\n",
              "      filter: drop-shadow(0px 1px 2px rgba(0, 0, 0, 0.3));\n",
              "      fill: #FFFFFF;\n",
              "    }\n",
              "  </style>\n",
              "\n",
              "      <script>\n",
              "        const buttonEl =\n",
              "          document.querySelector('#df-e38de18b-0de0-4ffc-ae00-208bf050f683 button.colab-df-convert');\n",
              "        buttonEl.style.display =\n",
              "          google.colab.kernel.accessAllowed ? 'block' : 'none';\n",
              "\n",
              "        async function convertToInteractive(key) {\n",
              "          const element = document.querySelector('#df-e38de18b-0de0-4ffc-ae00-208bf050f683');\n",
              "          const dataTable =\n",
              "            await google.colab.kernel.invokeFunction('convertToInteractive',\n",
              "                                                     [key], {});\n",
              "          if (!dataTable) return;\n",
              "\n",
              "          const docLinkHtml = 'Like what you see? Visit the ' +\n",
              "            '<a target=\"_blank\" href=https://colab.research.google.com/notebooks/data_table.ipynb>data table notebook</a>'\n",
              "            + ' to learn more about interactive tables.';\n",
              "          element.innerHTML = '';\n",
              "          dataTable['output_type'] = 'display_data';\n",
              "          await google.colab.output.renderOutput(dataTable, element);\n",
              "          const docLink = document.createElement('div');\n",
              "          docLink.innerHTML = docLinkHtml;\n",
              "          element.appendChild(docLink);\n",
              "        }\n",
              "      </script>\n",
              "    </div>\n",
              "  </div>\n",
              "  "
            ]
          },
          "metadata": {},
          "execution_count": 6
        }
      ]
    },
    {
      "cell_type": "code",
      "source": [
        "df.info()"
      ],
      "metadata": {
        "colab": {
          "base_uri": "https://localhost:8080/"
        },
        "id": "mC5oKwJPzTFx",
        "outputId": "0984f75a-2219-4539-94bb-a433fd1f0c82"
      },
      "execution_count": null,
      "outputs": [
        {
          "output_type": "stream",
          "name": "stdout",
          "text": [
            "<class 'pandas.core.frame.DataFrame'>\n",
            "RangeIndex: 14620 entries, 0 to 14619\n",
            "Data columns (total 22 columns):\n",
            " #   Column                                 Non-Null Count  Dtype  \n",
            "---  ------                                 --------------  -----  \n",
            " 0   id                                     14620 non-null  int64  \n",
            " 1   number of bedrooms                     14620 non-null  int64  \n",
            " 2   number of bathrooms                    14620 non-null  float64\n",
            " 3   living area                            14620 non-null  int64  \n",
            " 4   lot area                               14620 non-null  int64  \n",
            " 5   number of floors                       14620 non-null  float64\n",
            " 6   waterfront present                     14620 non-null  int64  \n",
            " 7   number of views                        14620 non-null  int64  \n",
            " 8   condition of the house                 14620 non-null  int64  \n",
            " 9   grade of the house                     14620 non-null  int64  \n",
            " 10  Area of the house(excluding basement)  14620 non-null  int64  \n",
            " 11  Area of the basement                   14620 non-null  int64  \n",
            " 12  Built Year                             14620 non-null  int64  \n",
            " 13  Renovation Year                        14620 non-null  int64  \n",
            " 14  Postal Code                            14620 non-null  int64  \n",
            " 15  Lattitude                              14620 non-null  float64\n",
            " 16  Longitude                              14620 non-null  float64\n",
            " 17  living_area_renov                      14620 non-null  int64  \n",
            " 18  lot_area_renov                         14620 non-null  int64  \n",
            " 19  Number of schools nearby               14620 non-null  int64  \n",
            " 20  Distance from the airport              14620 non-null  int64  \n",
            " 21  Price                                  14620 non-null  int64  \n",
            "dtypes: float64(4), int64(18)\n",
            "memory usage: 2.5 MB\n"
          ]
        }
      ]
    },
    {
      "cell_type": "code",
      "source": [
        "df.Lattitude.value_counts()"
      ],
      "metadata": {
        "colab": {
          "base_uri": "https://localhost:8080/"
        },
        "id": "uPRKq0X2CYIH",
        "outputId": "4edda98b-6b22-4302-a5bb-f18111adf84b"
      },
      "execution_count": null,
      "outputs": [
        {
          "output_type": "execute_result",
          "data": {
            "text/plain": [
              "52.7745    13\n",
              "52.8947    13\n",
              "52.9255    13\n",
              "52.9146    13\n",
              "52.8834    13\n",
              "           ..\n",
              "52.8969     1\n",
              "52.6834     1\n",
              "52.5337     1\n",
              "52.6155     1\n",
              "52.5338     1\n",
              "Name: Lattitude, Length: 4662, dtype: int64"
            ]
          },
          "metadata": {},
          "execution_count": 8
        }
      ]
    },
    {
      "cell_type": "code",
      "source": [
        "x= df.drop(['Lattitude'],axis =1)\n",
        "y = df.Lattitude\n",
        "     "
      ],
      "metadata": {
        "id": "LuzWvA9dCzYp"
      },
      "execution_count": null,
      "outputs": []
    },
    {
      "cell_type": "code",
      "source": [
        "from sklearn.preprocessing import LabelEncoder\n",
        "le=LabelEncoder()"
      ],
      "metadata": {
        "id": "GDx8BBtvDAWW"
      },
      "execution_count": null,
      "outputs": []
    },
    {
      "cell_type": "code",
      "source": [
        "y = le.fit_transform(y)"
      ],
      "metadata": {
        "id": "MvIlL7opDH-6"
      },
      "execution_count": null,
      "outputs": []
    },
    {
      "cell_type": "code",
      "source": [
        "y"
      ],
      "metadata": {
        "colab": {
          "base_uri": "https://localhost:8080/"
        },
        "id": "iNEqQcCdDMlY",
        "outputId": "879f1374-2101-4329-d677-4323a8b20e4c"
      },
      "execution_count": null,
      "outputs": [
        {
          "output_type": "execute_result",
          "data": {
            "text/plain": [
              "array([3289, 3515, 3491, ..., 1992, 1865,  394])"
            ]
          },
          "metadata": {},
          "execution_count": 12
        }
      ]
    },
    {
      "cell_type": "markdown",
      "source": [
        "# Build the ANN Model"
      ],
      "metadata": {
        "id": "DXFye86k1im6"
      }
    },
    {
      "cell_type": "code",
      "source": [
        "from tensorflow.keras.models import Sequential\n",
        "from tensorflow.keras.layers import Dense\n",
        "\n",
        "ANN = Sequential()"
      ],
      "metadata": {
        "id": "xm9UO-fY1oLA"
      },
      "execution_count": null,
      "outputs": []
    },
    {
      "cell_type": "markdown",
      "source": [
        "# Input layer and Hidden layers"
      ],
      "metadata": {
        "id": "G7-Er-GP2345"
      }
    },
    {
      "cell_type": "code",
      "source": [
        "ANN.add(Dense(30,activation = 'relu'))\n",
        "ANN.add(Dense(128,activation = 'relu'))\n",
        "ANN.add(Dense(64,activation = 'relu'))\n",
        "ANN.add(Dense(32,activation = 'relu'))"
      ],
      "metadata": {
        "id": "wvnublks5r5l"
      },
      "execution_count": null,
      "outputs": []
    },
    {
      "cell_type": "markdown",
      "source": [
        "#Output layer"
      ],
      "metadata": {
        "id": "MkBTf44B582U"
      }
    },
    {
      "cell_type": "code",
      "source": [
        "ANN.add(Dense(1,activation = 'sigmoid'))"
      ],
      "metadata": {
        "id": "9cy_27MI6EvK"
      },
      "execution_count": null,
      "outputs": []
    },
    {
      "cell_type": "markdown",
      "source": [],
      "metadata": {
        "id": "Cxh_anCz4Uhg"
      }
    },
    {
      "cell_type": "code",
      "source": [
        "# compiling the ANN model\n",
        "ANN.compile(optimizer = 'adam',loss = 'binary_crossentropy',metrics = ['accuracy'])\n",
        "     "
      ],
      "metadata": {
        "id": "lGvB-h9-68bo"
      },
      "execution_count": null,
      "outputs": []
    },
    {
      "cell_type": "code",
      "source": [
        "# split the data (Training & Testing)\n",
        "\n",
        "from sklearn.model_selection import train_test_split\n",
        "xtrain,xtest,ytrain,ytest = train_test_split(x,y,test_size = 0.2, random_state = 0)\n",
        "     "
      ],
      "metadata": {
        "id": "X6obbtQy8Jj-"
      },
      "execution_count": null,
      "outputs": []
    },
    {
      "cell_type": "code",
      "source": [
        "xtrain.shape"
      ],
      "metadata": {
        "colab": {
          "base_uri": "https://localhost:8080/"
        },
        "id": "TPKz5bZ6-5zj",
        "outputId": "e554a3c0-2412-4b6d-8ae3-aff54794c3ba"
      },
      "execution_count": null,
      "outputs": [
        {
          "output_type": "execute_result",
          "data": {
            "text/plain": [
              "(11696, 21)"
            ]
          },
          "metadata": {},
          "execution_count": 18
        }
      ]
    },
    {
      "cell_type": "code",
      "source": [
        "xtest.shape"
      ],
      "metadata": {
        "colab": {
          "base_uri": "https://localhost:8080/"
        },
        "id": "sPfudOPF-8r7",
        "outputId": "1ce5514a-a271-474d-9bb9-2923251a8d45"
      },
      "execution_count": null,
      "outputs": [
        {
          "output_type": "execute_result",
          "data": {
            "text/plain": [
              "(2924, 21)"
            ]
          },
          "metadata": {},
          "execution_count": 19
        }
      ]
    },
    {
      "cell_type": "code",
      "source": [
        "# Training the model\n",
        "\n",
        "ANN.fit(xtrain,ytrain,batch_size = 1000,epochs = 100)\n",
        "     "
      ],
      "metadata": {
        "colab": {
          "base_uri": "https://localhost:8080/"
        },
        "id": "Xxco6vqQ-dIc",
        "outputId": "aeabd79d-c63a-439e-e2e2-864543388b2b"
      },
      "execution_count": null,
      "outputs": [
        {
          "output_type": "stream",
          "name": "stdout",
          "text": [
            "Epoch 1/100\n",
            "12/12 [==============================] - 2s 7ms/step - loss: -4706968535040.0000 - accuracy: 8.5499e-05\n",
            "Epoch 2/100\n",
            "12/12 [==============================] - 0s 6ms/step - loss: -18253411778560.0000 - accuracy: 8.5499e-05\n",
            "Epoch 3/100\n",
            "12/12 [==============================] - 0s 6ms/step - loss: -48330419732480.0000 - accuracy: 8.5499e-05\n",
            "Epoch 4/100\n",
            "12/12 [==============================] - 0s 6ms/step - loss: -117390012579840.0000 - accuracy: 8.5499e-05\n",
            "Epoch 5/100\n",
            "12/12 [==============================] - 0s 7ms/step - loss: -264789028765696.0000 - accuracy: 8.5499e-05\n",
            "Epoch 6/100\n",
            "12/12 [==============================] - 0s 6ms/step - loss: -559486632722432.0000 - accuracy: 8.5499e-05\n",
            "Epoch 7/100\n",
            "12/12 [==============================] - 0s 6ms/step - loss: -1111678062166016.0000 - accuracy: 8.5499e-05\n",
            "Epoch 8/100\n",
            "12/12 [==============================] - 0s 6ms/step - loss: -2084110331805696.0000 - accuracy: 8.5499e-05\n",
            "Epoch 9/100\n",
            "12/12 [==============================] - 0s 6ms/step - loss: -3721851691859968.0000 - accuracy: 8.5499e-05\n",
            "Epoch 10/100\n",
            "12/12 [==============================] - 0s 6ms/step - loss: -6346288773726208.0000 - accuracy: 8.5499e-05\n",
            "Epoch 11/100\n",
            "12/12 [==============================] - 0s 6ms/step - loss: -10408162825863168.0000 - accuracy: 8.5499e-05\n",
            "Epoch 12/100\n",
            "12/12 [==============================] - 0s 7ms/step - loss: -16489718405398528.0000 - accuracy: 8.5499e-05\n",
            "Epoch 13/100\n",
            "12/12 [==============================] - 0s 6ms/step - loss: -25305700347412480.0000 - accuracy: 8.5499e-05\n",
            "Epoch 14/100\n",
            "12/12 [==============================] - 0s 6ms/step - loss: -37804770290827264.0000 - accuracy: 8.5499e-05\n",
            "Epoch 15/100\n",
            "12/12 [==============================] - 0s 6ms/step - loss: -55103124737622016.0000 - accuracy: 8.5499e-05\n",
            "Epoch 16/100\n",
            "12/12 [==============================] - 0s 9ms/step - loss: -78613887385075712.0000 - accuracy: 8.5499e-05\n",
            "Epoch 17/100\n",
            "12/12 [==============================] - 0s 9ms/step - loss: -110128252869148672.0000 - accuracy: 8.5499e-05\n",
            "Epoch 18/100\n",
            "12/12 [==============================] - 0s 10ms/step - loss: -151827334431768576.0000 - accuracy: 8.5499e-05\n",
            "Epoch 19/100\n",
            "12/12 [==============================] - 0s 10ms/step - loss: -205838403604840448.0000 - accuracy: 8.5499e-05\n",
            "Epoch 20/100\n",
            "12/12 [==============================] - 0s 10ms/step - loss: -274763300036673536.0000 - accuracy: 8.5499e-05\n",
            "Epoch 21/100\n",
            "12/12 [==============================] - 0s 9ms/step - loss: -361831237838438400.0000 - accuracy: 8.5499e-05\n",
            "Epoch 22/100\n",
            "12/12 [==============================] - 0s 10ms/step - loss: -470448177615470592.0000 - accuracy: 8.5499e-05\n",
            "Epoch 23/100\n",
            "12/12 [==============================] - 0s 9ms/step - loss: -603986476148981760.0000 - accuracy: 8.5499e-05\n",
            "Epoch 24/100\n",
            "12/12 [==============================] - 0s 9ms/step - loss: -767308345655689216.0000 - accuracy: 8.5499e-05\n",
            "Epoch 25/100\n",
            "12/12 [==============================] - 0s 9ms/step - loss: -964889760533315584.0000 - accuracy: 8.5499e-05\n",
            "Epoch 26/100\n",
            "12/12 [==============================] - 0s 10ms/step - loss: -1202104171545755648.0000 - accuracy: 8.5499e-05\n",
            "Epoch 27/100\n",
            "12/12 [==============================] - 0s 11ms/step - loss: -1484362962608062464.0000 - accuracy: 8.5499e-05\n",
            "Epoch 28/100\n",
            "12/12 [==============================] - 0s 9ms/step - loss: -1817878786734030848.0000 - accuracy: 8.5499e-05\n",
            "Epoch 29/100\n",
            "12/12 [==============================] - 0s 8ms/step - loss: -2210808783251177472.0000 - accuracy: 8.5499e-05\n",
            "Epoch 30/100\n",
            "12/12 [==============================] - 0s 10ms/step - loss: -2668799494123945984.0000 - accuracy: 8.5499e-05\n",
            "Epoch 31/100\n",
            "12/12 [==============================] - 0s 10ms/step - loss: -3199666522880475136.0000 - accuracy: 8.5499e-05\n",
            "Epoch 32/100\n",
            "12/12 [==============================] - 0s 10ms/step - loss: -3812641231708618752.0000 - accuracy: 8.5499e-05\n",
            "Epoch 33/100\n",
            "12/12 [==============================] - 0s 10ms/step - loss: -4516477382432915456.0000 - accuracy: 8.5499e-05\n",
            "Epoch 34/100\n",
            "12/12 [==============================] - 0s 10ms/step - loss: -5320290476203442176.0000 - accuracy: 8.5499e-05\n",
            "Epoch 35/100\n",
            "12/12 [==============================] - 0s 10ms/step - loss: -6234714164850327552.0000 - accuracy: 8.5499e-05\n",
            "Epoch 36/100\n",
            "12/12 [==============================] - 0s 10ms/step - loss: -7270242462226972672.0000 - accuracy: 8.5499e-05\n",
            "Epoch 37/100\n",
            "12/12 [==============================] - 0s 10ms/step - loss: -8438566475471519744.0000 - accuracy: 8.5499e-05\n",
            "Epoch 38/100\n",
            "12/12 [==============================] - 0s 10ms/step - loss: -9751763240303460352.0000 - accuracy: 8.5499e-05\n",
            "Epoch 39/100\n",
            "12/12 [==============================] - 0s 11ms/step - loss: -11222898803151470592.0000 - accuracy: 8.5499e-05\n",
            "Epoch 40/100\n",
            "12/12 [==============================] - 0s 11ms/step - loss: -12862814898421235712.0000 - accuracy: 8.5499e-05\n",
            "Epoch 41/100\n",
            "12/12 [==============================] - 0s 9ms/step - loss: -14691230167645290496.0000 - accuracy: 8.5499e-05\n",
            "Epoch 42/100\n",
            "12/12 [==============================] - 0s 10ms/step - loss: -16713930241008992256.0000 - accuracy: 8.5499e-05\n",
            "Epoch 43/100\n",
            "12/12 [==============================] - 0s 10ms/step - loss: -18955422133183840256.0000 - accuracy: 8.5499e-05\n",
            "Epoch 44/100\n",
            "12/12 [==============================] - 0s 10ms/step - loss: -21424056634982793216.0000 - accuracy: 8.5499e-05\n",
            "Epoch 45/100\n",
            "12/12 [==============================] - 0s 10ms/step - loss: -24139219235915169792.0000 - accuracy: 8.5499e-05\n",
            "Epoch 46/100\n",
            "12/12 [==============================] - 0s 9ms/step - loss: -27124015073327054848.0000 - accuracy: 8.5499e-05\n",
            "Epoch 47/100\n",
            "12/12 [==============================] - 0s 9ms/step - loss: -30383605254799228928.0000 - accuracy: 8.5499e-05\n",
            "Epoch 48/100\n",
            "12/12 [==============================] - 0s 9ms/step - loss: -33948932236560564224.0000 - accuracy: 8.5499e-05\n",
            "Epoch 49/100\n",
            "12/12 [==============================] - 0s 9ms/step - loss: -37833676142283849728.0000 - accuracy: 8.5499e-05\n",
            "Epoch 50/100\n",
            "12/12 [==============================] - 0s 9ms/step - loss: -42057098216664465408.0000 - accuracy: 8.5499e-05\n",
            "Epoch 51/100\n",
            "12/12 [==============================] - 0s 9ms/step - loss: -46643579030536716288.0000 - accuracy: 8.5499e-05\n",
            "Epoch 52/100\n",
            "12/12 [==============================] - 0s 9ms/step - loss: -51608797619712688128.0000 - accuracy: 8.5499e-05\n",
            "Epoch 53/100\n",
            "12/12 [==============================] - 0s 10ms/step - loss: -56981200549026201600.0000 - accuracy: 8.5499e-05\n",
            "Epoch 54/100\n",
            "12/12 [==============================] - 0s 10ms/step - loss: -62771158412150439936.0000 - accuracy: 8.5499e-05\n",
            "Epoch 55/100\n",
            "12/12 [==============================] - 0s 9ms/step - loss: -69023861136986996736.0000 - accuracy: 8.5499e-05\n",
            "Epoch 56/100\n",
            "12/12 [==============================] - 0s 11ms/step - loss: -75748153195069702144.0000 - accuracy: 8.5499e-05\n",
            "Epoch 57/100\n",
            "12/12 [==============================] - 0s 9ms/step - loss: -82973923710488018944.0000 - accuracy: 8.5499e-05\n",
            "Epoch 58/100\n",
            "12/12 [==============================] - 0s 9ms/step - loss: -90713306893566083072.0000 - accuracy: 8.5499e-05\n",
            "Epoch 59/100\n",
            "12/12 [==============================] - 0s 9ms/step - loss: -99005401377787609088.0000 - accuracy: 8.5499e-05\n",
            "Epoch 60/100\n",
            "12/12 [==============================] - 0s 11ms/step - loss: -107882884648730099712.0000 - accuracy: 8.5499e-05\n",
            "Epoch 61/100\n",
            "12/12 [==============================] - 0s 9ms/step - loss: -117368538587321073664.0000 - accuracy: 8.5499e-05\n",
            "Epoch 62/100\n",
            "12/12 [==============================] - 0s 9ms/step - loss: -127477439697000595456.0000 - accuracy: 8.5499e-05\n",
            "Epoch 63/100\n",
            "12/12 [==============================] - 0s 9ms/step - loss: -138260658093855604736.0000 - accuracy: 8.5499e-05\n",
            "Epoch 64/100\n",
            "12/12 [==============================] - 0s 9ms/step - loss: -149721377963560140800.0000 - accuracy: 8.5499e-05\n",
            "Epoch 65/100\n",
            "12/12 [==============================] - 0s 11ms/step - loss: -161907186169364348928.0000 - accuracy: 8.5499e-05\n",
            "Epoch 66/100\n",
            "12/12 [==============================] - 0s 9ms/step - loss: -174870832881122410496.0000 - accuracy: 8.5499e-05\n",
            "Epoch 67/100\n",
            "12/12 [==============================] - 0s 9ms/step - loss: -188619953107577602048.0000 - accuracy: 8.5499e-05\n",
            "Epoch 68/100\n",
            "12/12 [==============================] - 0s 10ms/step - loss: -203178894434215395328.0000 - accuracy: 8.5499e-05\n",
            "Epoch 69/100\n",
            "12/12 [==============================] - 0s 13ms/step - loss: -218550911415454007296.0000 - accuracy: 8.5499e-05\n",
            "Epoch 70/100\n",
            "12/12 [==============================] - 0s 12ms/step - loss: -234854258725884002304.0000 - accuracy: 8.5499e-05\n",
            "Epoch 71/100\n",
            "12/12 [==============================] - 0s 11ms/step - loss: -252050022449975132160.0000 - accuracy: 8.5499e-05\n",
            "Epoch 72/100\n",
            "12/12 [==============================] - 0s 13ms/step - loss: -270223612650973036544.0000 - accuracy: 8.5499e-05\n",
            "Epoch 73/100\n",
            "12/12 [==============================] - 0s 12ms/step - loss: -289386728132597252096.0000 - accuracy: 8.5499e-05\n",
            "Epoch 74/100\n",
            "12/12 [==============================] - 0s 11ms/step - loss: -309540705900987154432.0000 - accuracy: 8.5499e-05\n",
            "Epoch 75/100\n",
            "12/12 [==============================] - 0s 10ms/step - loss: -330765783916691324928.0000 - accuracy: 8.5499e-05\n",
            "Epoch 76/100\n",
            "12/12 [==============================] - 0s 12ms/step - loss: -353126085697841659904.0000 - accuracy: 8.5499e-05\n",
            "Epoch 77/100\n",
            "12/12 [==============================] - 0s 11ms/step - loss: -376632377662297341952.0000 - accuracy: 8.5499e-05\n",
            "Epoch 78/100\n",
            "12/12 [==============================] - 0s 10ms/step - loss: -401292154081313292288.0000 - accuracy: 8.5499e-05\n",
            "Epoch 79/100\n",
            "12/12 [==============================] - 0s 11ms/step - loss: -427178598448834281472.0000 - accuracy: 8.5499e-05\n",
            "Epoch 80/100\n",
            "12/12 [==============================] - 0s 8ms/step - loss: -454283618359279878144.0000 - accuracy: 8.5499e-05\n",
            "Epoch 81/100\n",
            "12/12 [==============================] - 0s 10ms/step - loss: -482772474808351326208.0000 - accuracy: 8.5499e-05\n",
            "Epoch 82/100\n",
            "12/12 [==============================] - 0s 11ms/step - loss: -512541620188991193088.0000 - accuracy: 8.5499e-05\n",
            "Epoch 83/100\n",
            "12/12 [==============================] - 0s 8ms/step - loss: -543652627152354934784.0000 - accuracy: 8.5499e-05\n",
            "Epoch 84/100\n",
            "12/12 [==============================] - 0s 14ms/step - loss: -576281980508840132608.0000 - accuracy: 8.5499e-05\n",
            "Epoch 85/100\n",
            "12/12 [==============================] - 0s 12ms/step - loss: -610332606575853699072.0000 - accuracy: 8.5499e-05\n",
            "Epoch 86/100\n",
            "12/12 [==============================] - 0s 13ms/step - loss: -645880996178316754944.0000 - accuracy: 8.5499e-05\n",
            "Epoch 87/100\n",
            "12/12 [==============================] - 0s 11ms/step - loss: -683000297625801981952.0000 - accuracy: 8.5499e-05\n",
            "Epoch 88/100\n",
            "12/12 [==============================] - 0s 8ms/step - loss: -721693818249285730304.0000 - accuracy: 8.5499e-05\n",
            "Epoch 89/100\n",
            "12/12 [==============================] - 0s 12ms/step - loss: -762133539259538210816.0000 - accuracy: 8.5499e-05\n",
            "Epoch 90/100\n",
            "12/12 [==============================] - 0s 13ms/step - loss: nan - accuracy: 8.5499e-05\n",
            "Epoch 91/100\n",
            "12/12 [==============================] - 0s 13ms/step - loss: nan - accuracy: 8.5499e-05\n",
            "Epoch 92/100\n",
            "12/12 [==============================] - 0s 11ms/step - loss: nan - accuracy: 8.5499e-05\n",
            "Epoch 93/100\n",
            "12/12 [==============================] - 0s 13ms/step - loss: nan - accuracy: 8.5499e-05\n",
            "Epoch 94/100\n",
            "12/12 [==============================] - 0s 12ms/step - loss: nan - accuracy: 8.5499e-05\n",
            "Epoch 95/100\n",
            "12/12 [==============================] - 0s 12ms/step - loss: nan - accuracy: 8.5499e-05\n",
            "Epoch 96/100\n",
            "12/12 [==============================] - 0s 12ms/step - loss: nan - accuracy: 8.5499e-05\n",
            "Epoch 97/100\n",
            "12/12 [==============================] - 0s 10ms/step - loss: nan - accuracy: 8.5499e-05\n",
            "Epoch 98/100\n",
            "12/12 [==============================] - 0s 13ms/step - loss: nan - accuracy: 8.5499e-05\n",
            "Epoch 99/100\n",
            "12/12 [==============================] - 0s 16ms/step - loss: nan - accuracy: 8.5499e-05\n",
            "Epoch 100/100\n",
            "12/12 [==============================] - 0s 11ms/step - loss: nan - accuracy: 8.5499e-05\n"
          ]
        }
      ]
    },
    {
      "cell_type": "markdown",
      "source": [
        "#Test the Model"
      ],
      "metadata": {
        "id": "e-dq-AFcDpZf"
      }
    },
    {
      "cell_type": "code",
      "source": [
        "y_pred = ANN.predict(xtest)"
      ],
      "metadata": {
        "colab": {
          "base_uri": "https://localhost:8080/"
        },
        "id": "-Aa4D7HqD4EM",
        "outputId": "dcc9b54a-ee19-4226-82de-02e9165c19c2"
      },
      "execution_count": null,
      "outputs": [
        {
          "output_type": "stream",
          "name": "stdout",
          "text": [
            "92/92 [==============================] - 0s 2ms/step\n"
          ]
        }
      ]
    },
    {
      "cell_type": "code",
      "source": [
        "pd.DataFrame({'Actual value':ytest.flatten(),'predicted value':y_pred.flatten().astype('int')}).head(10)\n",
        "     "
      ],
      "metadata": {
        "colab": {
          "base_uri": "https://localhost:8080/",
          "height": 363
        },
        "id": "EPWpdwCvD-Qw",
        "outputId": "70285af6-9f03-4c3a-b87a-80e5ca89d79b"
      },
      "execution_count": null,
      "outputs": [
        {
          "output_type": "execute_result",
          "data": {
            "text/plain": [
              "   Actual value      predicted value\n",
              "0           876 -9223372036854775808\n",
              "1          2467 -9223372036854775808\n",
              "2          2389 -9223372036854775808\n",
              "3          4503 -9223372036854775808\n",
              "4          3103 -9223372036854775808\n",
              "5          2495 -9223372036854775808\n",
              "6          3840 -9223372036854775808\n",
              "7          1320 -9223372036854775808\n",
              "8          1661 -9223372036854775808\n",
              "9           625 -9223372036854775808"
            ],
            "text/html": [
              "\n",
              "  <div id=\"df-8dd0c498-2d9e-46d6-acbe-52dbd4f96cc6\">\n",
              "    <div class=\"colab-df-container\">\n",
              "      <div>\n",
              "<style scoped>\n",
              "    .dataframe tbody tr th:only-of-type {\n",
              "        vertical-align: middle;\n",
              "    }\n",
              "\n",
              "    .dataframe tbody tr th {\n",
              "        vertical-align: top;\n",
              "    }\n",
              "\n",
              "    .dataframe thead th {\n",
              "        text-align: right;\n",
              "    }\n",
              "</style>\n",
              "<table border=\"1\" class=\"dataframe\">\n",
              "  <thead>\n",
              "    <tr style=\"text-align: right;\">\n",
              "      <th></th>\n",
              "      <th>Actual value</th>\n",
              "      <th>predicted value</th>\n",
              "    </tr>\n",
              "  </thead>\n",
              "  <tbody>\n",
              "    <tr>\n",
              "      <th>0</th>\n",
              "      <td>876</td>\n",
              "      <td>-9223372036854775808</td>\n",
              "    </tr>\n",
              "    <tr>\n",
              "      <th>1</th>\n",
              "      <td>2467</td>\n",
              "      <td>-9223372036854775808</td>\n",
              "    </tr>\n",
              "    <tr>\n",
              "      <th>2</th>\n",
              "      <td>2389</td>\n",
              "      <td>-9223372036854775808</td>\n",
              "    </tr>\n",
              "    <tr>\n",
              "      <th>3</th>\n",
              "      <td>4503</td>\n",
              "      <td>-9223372036854775808</td>\n",
              "    </tr>\n",
              "    <tr>\n",
              "      <th>4</th>\n",
              "      <td>3103</td>\n",
              "      <td>-9223372036854775808</td>\n",
              "    </tr>\n",
              "    <tr>\n",
              "      <th>5</th>\n",
              "      <td>2495</td>\n",
              "      <td>-9223372036854775808</td>\n",
              "    </tr>\n",
              "    <tr>\n",
              "      <th>6</th>\n",
              "      <td>3840</td>\n",
              "      <td>-9223372036854775808</td>\n",
              "    </tr>\n",
              "    <tr>\n",
              "      <th>7</th>\n",
              "      <td>1320</td>\n",
              "      <td>-9223372036854775808</td>\n",
              "    </tr>\n",
              "    <tr>\n",
              "      <th>8</th>\n",
              "      <td>1661</td>\n",
              "      <td>-9223372036854775808</td>\n",
              "    </tr>\n",
              "    <tr>\n",
              "      <th>9</th>\n",
              "      <td>625</td>\n",
              "      <td>-9223372036854775808</td>\n",
              "    </tr>\n",
              "  </tbody>\n",
              "</table>\n",
              "</div>\n",
              "      <button class=\"colab-df-convert\" onclick=\"convertToInteractive('df-8dd0c498-2d9e-46d6-acbe-52dbd4f96cc6')\"\n",
              "              title=\"Convert this dataframe to an interactive table.\"\n",
              "              style=\"display:none;\">\n",
              "        \n",
              "  <svg xmlns=\"http://www.w3.org/2000/svg\" height=\"24px\"viewBox=\"0 0 24 24\"\n",
              "       width=\"24px\">\n",
              "    <path d=\"M0 0h24v24H0V0z\" fill=\"none\"/>\n",
              "    <path d=\"M18.56 5.44l.94 2.06.94-2.06 2.06-.94-2.06-.94-.94-2.06-.94 2.06-2.06.94zm-11 1L8.5 8.5l.94-2.06 2.06-.94-2.06-.94L8.5 2.5l-.94 2.06-2.06.94zm10 10l.94 2.06.94-2.06 2.06-.94-2.06-.94-.94-2.06-.94 2.06-2.06.94z\"/><path d=\"M17.41 7.96l-1.37-1.37c-.4-.4-.92-.59-1.43-.59-.52 0-1.04.2-1.43.59L10.3 9.45l-7.72 7.72c-.78.78-.78 2.05 0 2.83L4 21.41c.39.39.9.59 1.41.59.51 0 1.02-.2 1.41-.59l7.78-7.78 2.81-2.81c.8-.78.8-2.07 0-2.86zM5.41 20L4 18.59l7.72-7.72 1.47 1.35L5.41 20z\"/>\n",
              "  </svg>\n",
              "      </button>\n",
              "      \n",
              "  <style>\n",
              "    .colab-df-container {\n",
              "      display:flex;\n",
              "      flex-wrap:wrap;\n",
              "      gap: 12px;\n",
              "    }\n",
              "\n",
              "    .colab-df-convert {\n",
              "      background-color: #E8F0FE;\n",
              "      border: none;\n",
              "      border-radius: 50%;\n",
              "      cursor: pointer;\n",
              "      display: none;\n",
              "      fill: #1967D2;\n",
              "      height: 32px;\n",
              "      padding: 0 0 0 0;\n",
              "      width: 32px;\n",
              "    }\n",
              "\n",
              "    .colab-df-convert:hover {\n",
              "      background-color: #E2EBFA;\n",
              "      box-shadow: 0px 1px 2px rgba(60, 64, 67, 0.3), 0px 1px 3px 1px rgba(60, 64, 67, 0.15);\n",
              "      fill: #174EA6;\n",
              "    }\n",
              "\n",
              "    [theme=dark] .colab-df-convert {\n",
              "      background-color: #3B4455;\n",
              "      fill: #D2E3FC;\n",
              "    }\n",
              "\n",
              "    [theme=dark] .colab-df-convert:hover {\n",
              "      background-color: #434B5C;\n",
              "      box-shadow: 0px 1px 3px 1px rgba(0, 0, 0, 0.15);\n",
              "      filter: drop-shadow(0px 1px 2px rgba(0, 0, 0, 0.3));\n",
              "      fill: #FFFFFF;\n",
              "    }\n",
              "  </style>\n",
              "\n",
              "      <script>\n",
              "        const buttonEl =\n",
              "          document.querySelector('#df-8dd0c498-2d9e-46d6-acbe-52dbd4f96cc6 button.colab-df-convert');\n",
              "        buttonEl.style.display =\n",
              "          google.colab.kernel.accessAllowed ? 'block' : 'none';\n",
              "\n",
              "        async function convertToInteractive(key) {\n",
              "          const element = document.querySelector('#df-8dd0c498-2d9e-46d6-acbe-52dbd4f96cc6');\n",
              "          const dataTable =\n",
              "            await google.colab.kernel.invokeFunction('convertToInteractive',\n",
              "                                                     [key], {});\n",
              "          if (!dataTable) return;\n",
              "\n",
              "          const docLinkHtml = 'Like what you see? Visit the ' +\n",
              "            '<a target=\"_blank\" href=https://colab.research.google.com/notebooks/data_table.ipynb>data table notebook</a>'\n",
              "            + ' to learn more about interactive tables.';\n",
              "          element.innerHTML = '';\n",
              "          dataTable['output_type'] = 'display_data';\n",
              "          await google.colab.output.renderOutput(dataTable, element);\n",
              "          const docLink = document.createElement('div');\n",
              "          docLink.innerHTML = docLinkHtml;\n",
              "          element.appendChild(docLink);\n",
              "        }\n",
              "      </script>\n",
              "    </div>\n",
              "  </div>\n",
              "  "
            ]
          },
          "metadata": {},
          "execution_count": 22
        }
      ]
    }
  ]
}